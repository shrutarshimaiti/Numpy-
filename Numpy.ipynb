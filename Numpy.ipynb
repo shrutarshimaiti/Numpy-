{
  "nbformat": 4,
  "nbformat_minor": 0,
  "metadata": {
    "colab": {
      "provenance": []
    },
    "kernelspec": {
      "name": "python3",
      "display_name": "Python 3"
    },
    "language_info": {
      "name": "python"
    }
  },
  "cells": [
    {
      "cell_type": "markdown",
      "source": [
        "**Theory Questions**"
      ],
      "metadata": {
        "id": "yPOG_gdiOzpS"
      }
    },
    {
      "cell_type": "markdown",
      "source": [
        " Q1.Explain the purpose and advantages of NumPy in scientific computing and data analysis. How does it enhance Python's capabilities for numerical operations?\n",
        " A-Purpose of NumPy: NumPy (Numerical Python) is a fundamental library in Python used for scientific computing and data analysis. Its primary purpose is to provide support for large, multi-dimensional arrays and matrices, along with a collection of mathematical functions to operate on these arrays. It enhances Python’s capabilities in numerical computation and serves as a foundation for other data science libraries like Pandas, SciPy, and scikit-learn.\n",
        "\n",
        "Advantages of NumPy:\n",
        "\n",
        "Efficient Data Structures:\n",
        "\n",
        "NumPy arrays (ndarrays) are more efficient than Python lists for storing and processing large amounts of data. The arrays use contiguous memory locations, enabling faster access and modification compared to traditional lists.\n",
        "Vectorized Operations:\n",
        "\n",
        "NumPy allows for vectorized operations, which eliminate the need for explicit loops. This means operations like addition, multiplication, and other element-wise calculations can be done directly on the entire array, leading to concise and readable code.\n",
        "Performance Optimization:\n",
        "\n",
        "NumPy is implemented in C, which makes it significantly faster for numerical computations compared to regular Python code. It provides optimized routines for numerical operations, reducing execution time for large-scale computations.\n",
        "Broad Functionality:\n",
        "\n",
        "NumPy offers a wide range of functions, including statistical, linear algebra, and random number generation capabilities. This makes it versatile for various scientific applications.\n",
        "Memory Efficiency:\n",
        "\n",
        "NumPy arrays are stored more compactly in memory, which is crucial when dealing with large datasets. This is because they require less overhead than Python lists and use fixed data types.\n",
        "Broadcasting and Vectorization:\n",
        "\n",
        "NumPy supports broadcasting, which allows you to perform arithmetic operations on arrays of different shapes without creating unnecessary copies of data. This makes array operations more intuitive and efficient.\n",
        "Integration with Other Libraries:\n",
        "\n",
        "NumPy integrates seamlessly with other data science libraries, such as Pandas for data manipulation, Matplotlib for data visualization, and SciPy for scientific computations. This interoperability makes it a central component of the Python scientific ecosystem.\n",
        "Overall, NumPy enhances Python's capabilities by offering a high-performance, easy-to-use framework for numerical and data-intensive computations."
      ],
      "metadata": {
        "id": "TyW8bWq-HclW"
      }
    },
    {
      "cell_type": "markdown",
      "source": [
        " Q2.Compare and contrast np.mean() and np.average() functions in NumPy. When would you use one over the other?\n",
        " A-Both np.mean() and np.average() are used to calculate the central tendency of data in NumPy, but they have some key differences in their functionality and usage.\n",
        "\n",
        "1. np.mean() Function:\n",
        "Purpose: Computes the arithmetic mean (average) along the specified axis.\n",
        "Syntax: np.mean(array, axis=None, dtype=None, out=None, keepdims=False)\n",
        "Parameters:\n",
        "array: Input array for which the mean needs to be computed.\n",
        "axis: Axis or axes along which the means are computed. Default is None, meaning it computes the mean of all elements.\n",
        "dtype: Data type of the output array. By default, it is the same as the input array’s dtype.\n",
        "out: Optional output array to store the result.\n",
        "keepdims: If set to True, the reduced axes are left in the result as dimensions with size one.\n",
        "2. np.average() Function:\n",
        "Purpose: Computes the weighted average of the input array elements. If no weights are provided, it behaves the same as np.mean().\n",
        "Syntax: np.average(array, axis=None, weights=None, returned=False)\n",
        "Parameters:\n",
        "array: Input array for which the average needs to be computed.\n",
        "axis: Axis or axes along which to compute the average. Default is None, meaning it computes the average of all elements.\n",
        "weights: An array of weights associated with the values in array. Must be the same shape as array. If None, all elements are assumed to have equal weight.\n",
        "returned: If set to True, returns a tuple (average, sum_of_weights) instead of just the average.\n",
        "3. Key Differences:\n",
        "Weighted Average vs. Simple Average:\n",
        "\n",
        "np.mean() always calculates a simple mean, giving equal weight to all elements.\n",
        "np.average() can compute a weighted mean if weights are provided. Without weights, it defaults to calculating a simple mean like np.mean().\n",
        "Additional Output:\n",
        "\n",
        "np.average() has an additional returned parameter that, when set to True, returns the sum of weights along with the average. This feature is not available in np.mean().\n",
        "Efficiency:\n",
        "\n",
        "For a basic average calculation, np.mean() is slightly more efficient since it doesn’t involve the overhead of handling weights.\n",
        "4. When to Use Each Function:\n",
        "Use np.mean() for standard average calculations when there is no need to assign different weights to the elements.\n",
        "Use np.average() when dealing with weighted data or if you need to calculate the sum of weights along with the average.\n",
        "Understanding when to use np.mean() versus np.average() can be crucial depending on the context of the data analysis, such as calculating a weighted grade or computing a simple mean of numerical data.\n",
        "\n"
      ],
      "metadata": {
        "id": "CuKIXH68H8l8"
      }
    },
    {
      "cell_type": "markdown",
      "source": [
        "Q3.Describe the methods for reversing a NumPy array along different axes. Provide examples for 1D and 2D arrays.\n",
        "A-NumPy provides several methods to reverse arrays along different axes depending on the shape and dimensionality of the array. Below, we'll cover a few of the common techniques to reverse 1D, 2D, and n-dimensional arrays.\n",
        "\n",
        "1. Reversing a 1D Array:\n",
        "To reverse a one-dimensional array, you can use slicing or the np.flip() function.\n",
        "2. Reversing a 2D Array:\n",
        "For 2D arrays, you can reverse the elements along different axes (rows or columns) using slicing or np.flip().\n",
        "\n",
        "Reversing Rows (axis=0): To reverse the rows of a 2D array, you can use slicing or specify axis=0 in np.flip().\n",
        "3. Reversing n-Dimensional Arrays:\n",
        "For arrays with more than two dimensions, np.flip() can be applied along a specific axis. Alternatively, you can use slicing with negative step sizes along the desired axis.\n",
        "4. Specialized Functions for Flipping Arrays:\n",
        "NumPy also provides specialized functions like np.fliplr() and np.flipud() for 2D arrays."
      ],
      "metadata": {
        "id": "sdkRNFk_JQto"
      }
    },
    {
      "cell_type": "markdown",
      "source": [
        " Q4. How can you determine the data type of elements in a NumPy array? Discuss the importance of data types in memory management and performance.\n",
        " A-Determining the Data Type in a NumPy Array:\n",
        "\n",
        "In NumPy, the data type of an array's elements can be checked using the dtype attribute.\n"
      ],
      "metadata": {
        "id": "JCbwHoQRKXvL"
      }
    },
    {
      "cell_type": "code",
      "source": [
        "import numpy as np\n",
        "\n",
        "arr = np.array([1, 2, 3])\n",
        "print(arr.dtype)\n"
      ],
      "metadata": {
        "colab": {
          "base_uri": "https://localhost:8080/"
        },
        "id": "2UEMvxorF3Tg",
        "outputId": "303b9cba-a4e2-43b5-cbdd-c85fed19c580"
      },
      "execution_count": 2,
      "outputs": [
        {
          "output_type": "stream",
          "name": "stdout",
          "text": [
            "int64\n"
          ]
        }
      ]
    },
    {
      "cell_type": "code",
      "source": [
        "arr = np.array([1, 2, 3], dtype='float32')\n",
        "print(arr.dtype)\n"
      ],
      "metadata": {
        "colab": {
          "base_uri": "https://localhost:8080/"
        },
        "id": "Rd3wY9HMGChh",
        "outputId": "3dc37e4d-6340-4d2f-a013-91027f1a62c4"
      },
      "execution_count": 3,
      "outputs": [
        {
          "output_type": "stream",
          "name": "stdout",
          "text": [
            "float32\n"
          ]
        }
      ]
    },
    {
      "cell_type": "markdown",
      "source": [
        "Importance of Data Types in Memory Management and Performance:\n",
        "\n",
        "Memory Efficiency:\n",
        "\n",
        "NumPy arrays are more memory-efficient compared to standard Python lists because they store elements of a single data type, ensuring compact storage.\n",
        "For example, an int8 array (8-bit integers) uses four times less memory than a float32 array (32-bit floats) for the same number of elements.\n",
        "Performance Optimization:\n",
        "\n",
        "The choice of data type directly impacts the performance of numerical operations. Using the smallest possible data type that can hold the data without loss of precision results in faster computations.\n",
        "For example, operations on an int8 array are faster than on a float64 array because smaller data types require fewer CPU cycles.\n",
        "Consistency and Data Integrity:\n",
        "\n",
        "Choosing the appropriate data type helps maintain consistency and avoid unexpected behavior during operations. For example, using float64 instead of int32 for division prevents truncation errors.\n",
        "NumPy’s support for custom data types (e.g., complex128 for complex numbers) ensures precise representation and manipulation of specialized data.\n",
        "Broadcasting and Type Conversion:\n",
        "\n",
        "When performing operations between arrays of different data types, NumPy uses upcasting rules to determine the output type. Understanding and controlling data types helps prevent unnecessary upcasting, which could lead to increased memory usage.\n",
        "In summary, correctly determining and selecting data types in NumPy arrays is essential for optimizing memory usage, achieving high computational performance, and maintaining numerical accuracy."
      ],
      "metadata": {
        "id": "Tstt-ZtBGNev"
      }
    },
    {
      "cell_type": "markdown",
      "source": [
        "Q5.Define ndarrays in NumPy and explain their key features. How do they differ from standard Python lists?\n",
        "A-An ndarray (N-dimensional array) is the core data structure provided by NumPy. It is a grid of values, all of the same type, indexed by a tuple of non-negative integers. Unlike Python’s built-in data structures, such as lists, ndarrays are highly optimized for mathematical and numerical operations.\n",
        "Key Features of ndarrays:\n",
        "Homogeneous Data Type:\n",
        "\n",
        "All elements in an ndarray must be of the same data type (e.g., int32, float64, bool), ensuring consistent and predictable behavior during computations.\n",
        "Multidimensional Support:\n",
        "\n",
        "An ndarray can have multiple dimensions (1D, 2D, 3D, or higher), making it suitable for complex data structures like matrices, tensors, and multidimensional grids.\n",
        "The dimensions of the array are defined by its shape, represented as a tuple of integers. For example, a 2D array with shape (3, 4) has 3 rows and 4 columns.\n",
        "Memory Efficiency:\n",
        "\n",
        "ndarrays are stored in contiguous blocks of memory, unlike Python lists, which are pointers to individual objects. This compact memory layout improves access times and reduces the memory overhead.\n",
        "Mathematical Operations:\n",
        "\n",
        "NumPy supports a wide range of mathematical operations on ndarrays, including element-wise addition, subtraction, multiplication, division, matrix operations, and linear algebra routines.\n",
        "Operations on ndarrays are vectorized, meaning they are applied simultaneously to all elements, eliminating the need for explicit loops.\n",
        "Broadcasting:\n",
        "\n",
        "Broadcasting is a powerful feature that allows NumPy to perform arithmetic operations on arrays of different shapes and sizes without copying data. It automatically adjusts the shapes of arrays so that operations like addition and multiplication can be performed efficiently.\n",
        "Indexing and Slicing:\n",
        "\n",
        "NumPy arrays offer advanced indexing and slicing capabilities for selecting and modifying data. You can extract entire sub-arrays or individual elements using simple and complex slicing techniques.\n",
        "Support for Mathematical Functions:\n",
        "\n",
        "NumPy provides a rich set of built-in mathematical functions (sin, cos, exp, dot, etc.) optimized for ndarrays. These functions can be applied to entire arrays in one step, making it easy to implement complex algorithms.\n",
        "Differences Between ndarrays and Python Lists:\n",
        "Data Type Consistency:\n",
        "\n",
        "Python Lists: Can contain elements of different data types (e.g., int, float, str in a single list).\n",
        "NumPy ndarrays: All elements must be of the same data type, making them more predictable and faster for numerical computations.\n",
        "Memory and Performance:\n",
        "\n",
        "Python Lists: Each element is an independent Python object, stored as a pointer, which leads to higher memory consumption and slower access times.\n",
        "NumPy ndarrays: Stored in contiguous blocks of memory, which ensures faster access and efficient memory usage.\n",
        "Mathematical Operations:\n",
        "\n",
        "Python Lists: Cannot perform element-wise arithmetic operations directly (e.g., addition or multiplication of lists).\n",
        "NumPy ndarrays: Support element-wise operations, matrix operations, and broadcasting, enabling complex numerical manipulations.\n",
        "Multidimensional Support:\n",
        "\n",
        "Python Lists: Can create nested lists to represent 2D or 3D data, but operations on these nested structures are cumbersome and not optimized.\n",
        "NumPy ndarrays: Naturally support multidimensional data, with shape and dimensions attributes (shape, ndim) for easy manipulation.\n",
        "Indexing and Slicing:\n",
        "\n",
        "Python Lists: Basic indexing and slicing capabilities, but limited when dealing with nested lists.\n",
        "NumPy ndarrays: Advanced indexing, slicing, and masking functionalities that allow fine-grained control over data selection.\n",
        "In summary, ndarrays provide a more efficient and versatile data structure for numerical and scientific computing compared to standard Python lists. They are specifically designed to handle large datasets and perform complex mathematical operations, making them the preferred choice for data analysis and scientific applications."
      ],
      "metadata": {
        "id": "a9Rhq3y0GPvi"
      }
    },
    {
      "cell_type": "markdown",
      "source": [
        "Q6. Analyze the performance benefits of NumPy arrays over Python lists for large-scale numerical operations.\n",
        "A-NumPy arrays (ndarrays) offer significant performance benefits over standard Python lists, especially for large-scale numerical computations. These advantages arise due to factors such as memory efficiency, speed of operation, and support for vectorized operations. Below, we analyze some of the key benefits:\n",
        "\n",
        "1. Memory Efficiency:\n",
        "Compact Memory Layout:\n",
        "\n",
        "NumPy arrays store data in a contiguous block of memory, which leads to efficient memory utilization.\n",
        "Python lists, on the other hand, store references to objects, causing higher memory overhead.\n",
        "Homogeneous Data Type:\n",
        "\n",
        "All elements in a NumPy array share the same data type, making it possible to store them compactly in memory without storing type information for each element.\n",
        "Python lists can contain mixed data types, resulting in additional memory being used for each element’s type and value.\n",
        "2. Speed and Computational Efficiency:\n",
        "Element-wise Operations:\n",
        "\n",
        "NumPy performs element-wise operations directly at the compiled C level, whereas Python lists require explicit looping, leading to slower execution.\n",
        "Vectorization:\n",
        "\n",
        "NumPy’s vectorized operations eliminate the need for explicit Python loops, reducing overhead and speeding up computations.\n",
        "Broadcasting:\n",
        "\n",
        "Broadcasting allows NumPy to perform arithmetic operations on arrays of different shapes without additional data duplication or complex logic, leading to efficient execution.\n",
        "3. Built-in Mathematical Functions:\n",
        "NumPy provides a rich set of optimized mathematical functions (e.g., sin, cos, exp, sqrt), which are faster and more memory-efficient compared to iterating over elements and applying Python’s math functions.\n",
        "These operations are implemented in C, making them significantly faster for large datasets.\n",
        "4. Support for Multidimensional Data:\n",
        "NumPy arrays natively support multidimensional data structures such as matrices and tensors, allowing complex data manipulation and matrix operations.\n",
        "Python lists can only represent multidimensional data through nested lists, which are cumbersome to handle and less efficient in terms of both memory and speed.\n",
        "5. Advanced Indexing and Slicing:\n",
        "NumPy allows for advanced indexing, slicing, and masking operations, which enable quick extraction and modification of array elements without the need for multiple nested loops.\n",
        "This results in more concise and optimized code compared to similar operations using nested Python lists.\n",
        "6. Parallelization and Hardware Optimization:\n",
        "Many NumPy functions are optimized to take advantage of parallel processing, using libraries like BLAS and LAPACK to execute operations on multiple CPU cores or even GPU, providing additional speedup for large-scale operations.\n",
        "Python lists do not benefit from such optimizations, making NumPy the preferred choice for computationally intensive tasks."
      ],
      "metadata": {
        "id": "zedPg3vKGsqQ"
      }
    },
    {
      "cell_type": "markdown",
      "source": [
        "Q7.Compare vstack() and hstack() functions in NumPy. Provide examples demonstrating their usage and output.\n",
        "A-Use vstack() when you need to add new rows to an existing array.\n",
        "Use hstack() when you need to add new columns to an existing array.\n",
        "The key difference lies in the axis along which the stacking operation is performed: axis 0 for vstack() and axis 1 for hstack()."
      ],
      "metadata": {
        "id": "w7QApkTSHXT7"
      }
    },
    {
      "cell_type": "code",
      "source": [
        "import numpy as np\n",
        "\n",
        "arr1 = np.array([[1, 2, 3],\n",
        "                 [4, 5, 6]])\n",
        "arr2 = np.array([[7, 8, 9]])\n",
        "\n",
        "#Vertical stack\n",
        "result = np.vstack((arr1, arr2))\n",
        "print(result)\n"
      ],
      "metadata": {
        "colab": {
          "base_uri": "https://localhost:8080/"
        },
        "id": "vi9-Fo-4Hj9J",
        "outputId": "6a67ffeb-6e82-41e1-8a3d-f27f44fa4af8"
      },
      "execution_count": 4,
      "outputs": [
        {
          "output_type": "stream",
          "name": "stdout",
          "text": [
            "[[1 2 3]\n",
            " [4 5 6]\n",
            " [7 8 9]]\n"
          ]
        }
      ]
    },
    {
      "cell_type": "code",
      "source": [
        "arr1 = np.array([[1, 2, 3],\n",
        "                 [4, 5, 6]])\n",
        "arr2 = np.array([[7],\n",
        "                 [8]])\n",
        "\n",
        "# Horizontal stacking\n",
        "result = np.hstack((arr1, arr2))\n",
        "print(result)\n"
      ],
      "metadata": {
        "colab": {
          "base_uri": "https://localhost:8080/"
        },
        "id": "e_i8CJY8H4gA",
        "outputId": "6d78970c-683e-4bb7-fa44-25f84fbf83c8"
      },
      "execution_count": 5,
      "outputs": [
        {
          "output_type": "stream",
          "name": "stdout",
          "text": [
            "[[1 2 3 7]\n",
            " [4 5 6 8]]\n"
          ]
        }
      ]
    },
    {
      "cell_type": "markdown",
      "source": [
        "Q8. Explain the differences between fliplr() and flipud() methods in NumPy, including their effects on various array dimensions.\n",
        "A-1. numpy.fliplr() – Flip Left to Right:\n",
        "Description: fliplr() flips the elements of a 2D array horizontally (left to right).\n",
        "\n",
        "Effect: It reverses the order of columns while keeping the rows unchanged.\n",
        "\n",
        "Applicable Dimensions: The input must be at least a 2D array; using it on a 1D array will result in an error.\n",
        "\n",
        "Axis of Operation: Operates along axis 1 (the horizontal axis).\n",
        "2. numpy.flipud() – Flip Up to Down:\n",
        "Description: flipud() flips the elements of an array vertically (up to down).\n",
        "\n",
        "Effect: It reverses the order of rows while keeping the columns unchanged.\n",
        "\n",
        "Applicable Dimensions: It works on arrays of any dimension (1D, 2D, or higher).\n",
        "\n",
        "Axis of Operation: Operates along axis 0 (the vertical axis)."
      ],
      "metadata": {
        "id": "EvzHXysoIGrU"
      }
    },
    {
      "cell_type": "markdown",
      "source": [
        "Q9.Discuss the functionality of the array_split() method in NumPy. How does it handle uneven splits?\n",
        "A-numpy.array_split() is a flexible and robust method for splitting arrays, particularly when the splits are uneven.\n",
        "It ensures that sub-arrays have nearly equal sizes and does not raise an error when the array cannot be evenly divided.\n",
        "This behavior makes array_split() a preferred choice over split() in scenarios where exact division is not possible.\n",
        "How array_split() Handles Uneven Splits:\n",
        "When the number of elements does not divide evenly into the specified number of sections, array_split() distributes the \"extra\" elements among the first few sub-arrays."
      ],
      "metadata": {
        "id": "sN3l6JczJXhN"
      }
    },
    {
      "cell_type": "markdown",
      "source": [
        " Q10.Explain the concepts of vectorization and broadcasting in NumPy. How do they contribute to efficient array operations?\n",
        " A-1. Vectorization in NumPy\n",
        "Definition: Vectorization refers to the process of applying operations to entire arrays (vectors) simultaneously, rather than iterating through individual elements using loops.\n",
        "\n",
        "Mechanism: In NumPy, operations are performed at a low level using compiled C code. This allows NumPy to take advantage of CPU optimizations and perform operations in parallel, making computations much faster.\n",
        "\n",
        "Benefits:\n",
        "\n",
        "Performance: Vectorized operations eliminate the overhead of Python’s for-loops, reducing the number of interpreted operations.\n",
        "Readability: Vectorized code is more concise and easier to read because it abstracts away the looping logic.\n",
        "2. Broadcasting in NumPy\n",
        "Definition: Broadcasting is a mechanism that allows NumPy to perform arithmetic operations on arrays of different shapes and sizes by automatically expanding their dimensions to match each other.\n",
        "\n",
        "Purpose: It simplifies operations between arrays of different shapes without requiring explicit replication of data. This saves both memory and computational time.\n",
        "\n",
        "How It Works:\n",
        "\n",
        "When performing operations between two arrays, NumPy compares their shapes element-wise, starting from the last dimension. Two dimensions are compatible if:\n",
        "They are equal, or\n",
        "One of them is 1 (allowing for expansion).\n",
        "If the shapes are not compatible, broadcasting is not possible, and NumPy raises a ValueError.\n",
        "How Vectorization and Broadcasting Contribute to Efficient Array Operations\n",
        "Elimination of Explicit Loops:\n",
        "\n",
        "Both vectorization and broadcasting eliminate the need for looping through array elements. Looping in Python is slow due to its interpreted nature, whereas vectorized operations in NumPy are executed at a lower level using optimized C code.\n",
        "Memory Efficiency:\n",
        "\n",
        "Broadcasting avoids the need to create large temporary arrays by \"logically\" expanding the smaller array without actually replicating data in memory.\n",
        "This results in less memory consumption and faster execution times, especially for large datasets.\n",
        "Parallel Execution:\n",
        "\n",
        "Many vectorized operations in NumPy are executed in parallel, leveraging CPU optimizations and SIMD (Single Instruction, Multiple Data) instructions, which improve speed and throughput.\n",
        "Concise and Readable Code:\n",
        "\n",
        "Vectorized and broadcasted operations are often represented by a single line of code, making it easier to understand and maintain compared to traditional looping constructs.\n",
        "Numerical Stability:\n",
        "\n",
        "Using vectorized operations helps prevent errors that can occur in explicit looping, such as incorrect indexing or off-by-one errors."
      ],
      "metadata": {
        "id": "H4xybnZyKIgY"
      }
    },
    {
      "cell_type": "markdown",
      "source": [
        "**PRACTCAL QUESTIONS**"
      ],
      "metadata": {
        "id": "3W4y55s8K6D0"
      }
    },
    {
      "cell_type": "markdown",
      "source": [
        "Q1.Create a 3x3 NumPy array with random integers between 1 and 100. Then, interchange its rows and columns.\n"
      ],
      "metadata": {
        "id": "gKZX7jckLIPZ"
      }
    },
    {
      "cell_type": "code",
      "source": [
        "import numpy as np\n",
        "\n",
        "# Step 1: Create a 3x3 NumPy array with random integers between 1 and 100\n",
        "array = np.random.randint(1, 101, size=(3, 3))\n",
        "print(\"Original Array:\\n\", array)\n",
        "\n",
        "# Step 2: Interchange rows and columns using transpose\n",
        "transposed_array = array.T\n",
        "print(\"\\nTransposed Array:\\n\", transposed_array)\n"
      ],
      "metadata": {
        "colab": {
          "base_uri": "https://localhost:8080/"
        },
        "id": "Ku0wS305LMu9",
        "outputId": "4ab32a5f-c830-4bb4-fb5f-a3ec206e584e"
      },
      "execution_count": 6,
      "outputs": [
        {
          "output_type": "stream",
          "name": "stdout",
          "text": [
            "Original Array:\n",
            " [[64 79 70]\n",
            " [51 84 86]\n",
            " [63  5 11]]\n",
            "\n",
            "Transposed Array:\n",
            " [[64 51 63]\n",
            " [79 84  5]\n",
            " [70 86 11]]\n"
          ]
        }
      ]
    },
    {
      "cell_type": "markdown",
      "source": [
        "Q2. 2. Generate a 1D NumPy array with 10 elements. Reshape it into a 2x5 array, then into a 5x2 array"
      ],
      "metadata": {
        "id": "s-4X9AHaLTpz"
      }
    },
    {
      "cell_type": "code",
      "source": [
        "import numpy as np\n",
        "\n",
        "# Step 1: Create a 1D NumPy array with 10 elements (0 to 9)\n",
        "array_1d = np.arange(10)\n",
        "print(\"1D Array:\\n\", array_1d)\n",
        "\n",
        "# Step 2: Reshape the 1D array into a 2x5 array\n",
        "array_2x5 = array_1d.reshape(2, 5)\n",
        "print(\"\\n2x5 Array:\\n\", array_2x5)\n",
        "\n",
        "# Step 3: Reshape the 2x5 array into a 5x2 array\n",
        "array_5x2 = array_2x5.reshape(5, 2)\n",
        "print(\"\\n5x2 Array:\\n\", array_5x2)\n"
      ],
      "metadata": {
        "colab": {
          "base_uri": "https://localhost:8080/"
        },
        "id": "mT83uVZfLXut",
        "outputId": "2b031aa3-9bb6-44fb-eed4-60b31398f49e"
      },
      "execution_count": 7,
      "outputs": [
        {
          "output_type": "stream",
          "name": "stdout",
          "text": [
            "1D Array:\n",
            " [0 1 2 3 4 5 6 7 8 9]\n",
            "\n",
            "2x5 Array:\n",
            " [[0 1 2 3 4]\n",
            " [5 6 7 8 9]]\n",
            "\n",
            "5x2 Array:\n",
            " [[0 1]\n",
            " [2 3]\n",
            " [4 5]\n",
            " [6 7]\n",
            " [8 9]]\n"
          ]
        }
      ]
    },
    {
      "cell_type": "markdown",
      "source": [
        " Q3. Create a 4x4 NumPy array with random float values. Add a border of zeros around it, resulting in a 6x6 array."
      ],
      "metadata": {
        "id": "Y-LzAcl_Lqml"
      }
    },
    {
      "cell_type": "code",
      "source": [
        "import numpy as np\n",
        "\n",
        "# Step 1: Create a 4x4 NumPy array with random float values between 0 and 1\n",
        "array_4x4 = np.random.rand(4, 4)\n",
        "print(\"Original 4x4 Array:\\n\", array_4x4)\n",
        "\n",
        "# Step 2: Add a border of zeros around the 4x4 array to make it 6x6\n",
        "array_6x6 = np.pad(array_4x4, pad_width=1, mode='constant', constant_values=0)\n",
        "print(\"\\nArray with Zero Border (6x6):\\n\", array_6x6)\n"
      ],
      "metadata": {
        "colab": {
          "base_uri": "https://localhost:8080/"
        },
        "id": "vhfzM4NCLtly",
        "outputId": "124709d6-1ebb-43a3-cec4-b2f25bf5e8ec"
      },
      "execution_count": 8,
      "outputs": [
        {
          "output_type": "stream",
          "name": "stdout",
          "text": [
            "Original 4x4 Array:\n",
            " [[0.61452781 0.83410906 0.65177416 0.01013447]\n",
            " [0.45829325 0.23538307 0.59715952 0.44455737]\n",
            " [0.3655643  0.75707179 0.85318519 0.81987719]\n",
            " [0.56446965 0.38590836 0.56850612 0.75897095]]\n",
            "\n",
            "Array with Zero Border (6x6):\n",
            " [[0.         0.         0.         0.         0.         0.        ]\n",
            " [0.         0.61452781 0.83410906 0.65177416 0.01013447 0.        ]\n",
            " [0.         0.45829325 0.23538307 0.59715952 0.44455737 0.        ]\n",
            " [0.         0.3655643  0.75707179 0.85318519 0.81987719 0.        ]\n",
            " [0.         0.56446965 0.38590836 0.56850612 0.75897095 0.        ]\n",
            " [0.         0.         0.         0.         0.         0.        ]]\n"
          ]
        }
      ]
    },
    {
      "cell_type": "markdown",
      "source": [
        "Q4.Using NumPy, create an array of integers from 10 to 60 with a step of 5."
      ],
      "metadata": {
        "id": "iwK1SqsLL3aB"
      }
    },
    {
      "cell_type": "code",
      "source": [
        "import numpy as np\n",
        "\n",
        "# Create an array of integers from 10 to 60 with a step of 5\n",
        "array = np.arange(10, 61, 5)\n",
        "print(\"Array of integers from 10 to 60 with a step of 5:\\n\", array)\n"
      ],
      "metadata": {
        "colab": {
          "base_uri": "https://localhost:8080/"
        },
        "id": "mebG232LMAKt",
        "outputId": "ed2392b8-d9cf-4518-ce09-8138c14b7d6f"
      },
      "execution_count": 9,
      "outputs": [
        {
          "output_type": "stream",
          "name": "stdout",
          "text": [
            "Array of integers from 10 to 60 with a step of 5:\n",
            " [10 15 20 25 30 35 40 45 50 55 60]\n"
          ]
        }
      ]
    },
    {
      "cell_type": "markdown",
      "source": [
        "Q5.Create a NumPy array of strings ['python', 'numpy', 'pandas']. Apply different case transformations (uppercase, lowercase, title case, etc.) to each element."
      ],
      "metadata": {
        "id": "BcRiWOUcMGfD"
      }
    },
    {
      "cell_type": "code",
      "source": [
        "import numpy as np\n",
        "\n",
        "# Step 1: Create a NumPy array of strings\n",
        "array_strings = np.array(['python', 'numpy', 'pandas'])\n",
        "\n",
        "# Step 2: Apply different case transformations\n",
        "uppercase_array = np.char.upper(array_strings)  # Convert to uppercase\n",
        "lowercase_array = np.char.lower(array_strings)  # Convert to lowercase\n",
        "titlecase_array = np.char.title(array_strings)   # Convert to title case\n",
        "\n",
        "# Step 3: Print the results\n",
        "print(\"Original Array:\\n\", array_strings)\n",
        "print(\"\\nUppercase Array:\\n\", uppercase_array)\n",
        "print(\"\\nLowercase Array:\\n\", lowercase_array)\n",
        "print(\"\\nTitle Case Array:\\n\", titlecase_array)\n"
      ],
      "metadata": {
        "colab": {
          "base_uri": "https://localhost:8080/"
        },
        "id": "ZaufMNUQMOe-",
        "outputId": "a6d45769-5b54-4d79-e9de-d222c6fbb4ce"
      },
      "execution_count": 10,
      "outputs": [
        {
          "output_type": "stream",
          "name": "stdout",
          "text": [
            "Original Array:\n",
            " ['python' 'numpy' 'pandas']\n",
            "\n",
            "Uppercase Array:\n",
            " ['PYTHON' 'NUMPY' 'PANDAS']\n",
            "\n",
            "Lowercase Array:\n",
            " ['python' 'numpy' 'pandas']\n",
            "\n",
            "Title Case Array:\n",
            " ['Python' 'Numpy' 'Pandas']\n"
          ]
        }
      ]
    },
    {
      "cell_type": "markdown",
      "source": [
        "Q6.Generate a NumPy array of words. Insert a space between each character of every word in the array."
      ],
      "metadata": {
        "id": "5N9n_MVLMXA8"
      }
    },
    {
      "cell_type": "code",
      "source": [
        "import numpy as np\n",
        "\n",
        "# Step 1: Create a NumPy array of words\n",
        "array_words = np.array(['python', 'numpy', 'pandas'])\n",
        "\n",
        "# Step 2: Insert a space between each character of every word\n",
        "spaced_array = np.char.join(' ', array_words)  # Join with a space\n",
        "\n",
        "# Step 3: Print the results\n",
        "print(\"Original Array:\\n\", array_words)\n",
        "print(\"\\nArray with Spaces Between Characters:\\n\", spaced_array)\n"
      ],
      "metadata": {
        "colab": {
          "base_uri": "https://localhost:8080/"
        },
        "id": "Y5oP7Y6AMa6T",
        "outputId": "7ff3e0dd-5954-4550-ba3c-4d2077992b9b"
      },
      "execution_count": 11,
      "outputs": [
        {
          "output_type": "stream",
          "name": "stdout",
          "text": [
            "Original Array:\n",
            " ['python' 'numpy' 'pandas']\n",
            "\n",
            "Array with Spaces Between Characters:\n",
            " ['p y t h o n' 'n u m p y' 'p a n d a s']\n"
          ]
        }
      ]
    },
    {
      "cell_type": "markdown",
      "source": [
        "Q7.Create two 2D NumPy arrays and perform element-wise addition, subtraction, multiplication, and division."
      ],
      "metadata": {
        "id": "nVnDclZSMmZb"
      }
    },
    {
      "cell_type": "code",
      "source": [
        "import numpy as np\n",
        "\n",
        "# Step 1: Create two 2D NumPy arrays\n",
        "array1 = np.array([[1, 2, 3],\n",
        "                   [4, 5, 6]])\n",
        "array2 = np.array([[7, 8, 9],\n",
        "                   [10, 11, 12]])\n",
        "\n",
        "# Step 2: Perform element-wise operations\n",
        "addition_result = array1 + array2          # Element-wise addition\n",
        "subtraction_result = array1 - array2       # Element-wise subtraction\n",
        "multiplication_result = array1 * array2    # Element-wise multiplication\n",
        "division_result = array1 / array2          # Element-wise division\n",
        "\n",
        "# Step 3: Print the results\n",
        "print(\"Array 1:\\n\", array1)\n",
        "print(\"\\nArray 2:\\n\", array2)\n",
        "print(\"\\nElement-wise Addition:\\n\", addition_result)\n",
        "print(\"\\nElement-wise Subtraction:\\n\", subtraction_result)\n",
        "print(\"\\nElement-wise Multiplication:\\n\", multiplication_result)\n",
        "print(\"\\nElement-wise Division:\\n\", division_result)\n"
      ],
      "metadata": {
        "colab": {
          "base_uri": "https://localhost:8080/"
        },
        "id": "VSSl3KEpMn6U",
        "outputId": "2390a28c-5104-42c1-e0dc-b1b1a519b961"
      },
      "execution_count": 12,
      "outputs": [
        {
          "output_type": "stream",
          "name": "stdout",
          "text": [
            "Array 1:\n",
            " [[1 2 3]\n",
            " [4 5 6]]\n",
            "\n",
            "Array 2:\n",
            " [[ 7  8  9]\n",
            " [10 11 12]]\n",
            "\n",
            "Element-wise Addition:\n",
            " [[ 8 10 12]\n",
            " [14 16 18]]\n",
            "\n",
            "Element-wise Subtraction:\n",
            " [[-6 -6 -6]\n",
            " [-6 -6 -6]]\n",
            "\n",
            "Element-wise Multiplication:\n",
            " [[ 7 16 27]\n",
            " [40 55 72]]\n",
            "\n",
            "Element-wise Division:\n",
            " [[0.14285714 0.25       0.33333333]\n",
            " [0.4        0.45454545 0.5       ]]\n"
          ]
        }
      ]
    },
    {
      "cell_type": "markdown",
      "source": [
        "Q8.Use NumPy to create a 5x5 identity matrix, then extract its diagonal elements."
      ],
      "metadata": {
        "id": "gllrm8uDMxg8"
      }
    },
    {
      "cell_type": "code",
      "source": [
        "import numpy as np\n",
        "\n",
        "# Step 1: Create a 5x5 identity matrix\n",
        "identity_matrix = np.eye(5)\n",
        "print(\"5x5 Identity Matrix:\\n\", identity_matrix)\n",
        "\n",
        "# Step 2: Extract the diagonal elements\n",
        "diagonal_elements = np.diagonal(identity_matrix)\n",
        "# Alternatively, you can use:\n",
        "# diagonal_elements = np.diag(identity_matrix)\n",
        "\n",
        "print(\"\\nDiagonal Elements:\\n\", diagonal_elements)\n"
      ],
      "metadata": {
        "colab": {
          "base_uri": "https://localhost:8080/"
        },
        "id": "EqcLinZcM27z",
        "outputId": "d06866a1-dfde-4b35-ba3d-f52733678884"
      },
      "execution_count": 13,
      "outputs": [
        {
          "output_type": "stream",
          "name": "stdout",
          "text": [
            "5x5 Identity Matrix:\n",
            " [[1. 0. 0. 0. 0.]\n",
            " [0. 1. 0. 0. 0.]\n",
            " [0. 0. 1. 0. 0.]\n",
            " [0. 0. 0. 1. 0.]\n",
            " [0. 0. 0. 0. 1.]]\n",
            "\n",
            "Diagonal Elements:\n",
            " [1. 1. 1. 1. 1.]\n"
          ]
        }
      ]
    },
    {
      "cell_type": "markdown",
      "source": [
        "Q9.Generate a NumPy array of 100 random integers between 0 and 1000. Find and display all prime numbers in this array"
      ],
      "metadata": {
        "id": "I4G8r4peNJBQ"
      }
    },
    {
      "cell_type": "code",
      "source": [
        "import numpy as np\n",
        "\n",
        "# Step 1: Generate a NumPy array of 100 random integers between 0 and 1000\n",
        "random_integers = np.random.randint(0, 1001, size=100)\n",
        "print(\"Random Integers:\\n\", random_integers)\n",
        "\n",
        "# Step 2: Define a function to check if a number is prime\n",
        "def is_prime(n):\n",
        "    if n <= 1:\n",
        "        return False\n",
        "    for i in range(2, int(n**0.5) + 1):\n",
        "        if n % i == 0:\n",
        "            return False\n",
        "    return True\n",
        "\n",
        "# Step 3: Find all prime numbers in the array\n",
        "prime_numbers = [num for num in random_integers if is_prime(num)]\n",
        "\n",
        "# Step 4: Display the prime numbers\n",
        "print(\"\\nPrime Numbers in the Array:\\n\", prime_numbers)\n"
      ],
      "metadata": {
        "colab": {
          "base_uri": "https://localhost:8080/"
        },
        "id": "iuIa6zQgNMAi",
        "outputId": "ac999329-4b76-40ea-8f6d-7b96817bfa4c"
      },
      "execution_count": 14,
      "outputs": [
        {
          "output_type": "stream",
          "name": "stdout",
          "text": [
            "Random Integers:\n",
            " [285 241 793 820 917 248 467 347 175 243 165 474 272 753 664 710 475 574\n",
            " 302 237 284 587 776 600 643 724 440 965 714 695  32 792 674 623 790 312\n",
            "  38 854 457 281 903 672 949 679 473 604  61 345 430 706 571  52  58 457\n",
            " 470 828 425 569 546 361 598 196  78 466 338 343 832 375 444 196 723 319\n",
            " 695 348 928 290 118 334 597 488 168 489 258 222 903 580 239 577  14 210\n",
            "  33 845 438  58 764 357 837 643 399 130]\n",
            "\n",
            "Prime Numbers in the Array:\n",
            " [241, 467, 347, 587, 643, 457, 281, 61, 571, 457, 569, 239, 577, 643]\n"
          ]
        }
      ]
    },
    {
      "cell_type": "markdown",
      "source": [
        "Q10.Create a NumPy array representing daily temperatures for a month. Calculate and display the weekly averages."
      ],
      "metadata": {
        "id": "UuSwF7fyNaL_"
      }
    },
    {
      "cell_type": "code",
      "source": [
        "import numpy as np\n",
        "np.random.seed(0)\n",
        "daily_temperatures = np.random.randint(15, 35, size=30)\n",
        "print(\"Daily Temperatures for a Month:\\n\", daily_temperatures)\n",
        "weekly_temperatures = daily_temperatures.reshape(3, 10)\n",
        "weekly_averages = np.mean(weekly_temperatures, axis=1)\n",
        "print(\"\\nWeekly Temperatures:\\n\", weekly_temperatures)\n",
        "print(\"\\nWeekly Average Temperatures:\\n\", weekly_averages)"
      ],
      "metadata": {
        "colab": {
          "base_uri": "https://localhost:8080/"
        },
        "id": "wxbetzDdOK5w",
        "outputId": "d7e06bb4-7a93-47d1-99e7-571b77b450ef"
      },
      "execution_count": 20,
      "outputs": [
        {
          "output_type": "stream",
          "name": "stdout",
          "text": [
            "Daily Temperatures for a Month:\n",
            " [27 30 15 18 18 22 24 34 33 19 21 27 16 21 22 29 32 20 28 23 24 34 31 34\n",
            " 20 30 30 15 33 18]\n",
            "\n",
            "Weekly Temperatures:\n",
            " [[27 30 15 18 18 22 24 34 33 19]\n",
            " [21 27 16 21 22 29 32 20 28 23]\n",
            " [24 34 31 34 20 30 30 15 33 18]]\n",
            "\n",
            "Weekly Average Temperatures:\n",
            " [24.  23.9 26.9]\n"
          ]
        }
      ]
    }
  ]
}